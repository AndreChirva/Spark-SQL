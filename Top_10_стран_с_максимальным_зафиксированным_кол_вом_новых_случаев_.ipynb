{
  "nbformat": 4,
  "nbformat_minor": 0,
  "metadata": {
    "colab": {
      "provenance": [],
      "authorship_tag": "ABX9TyO1XDopG1Rnvf/F3epABMoE",
      "include_colab_link": true
    },
    "kernelspec": {
      "name": "python3",
      "display_name": "Python 3"
    },
    "language_info": {
      "name": "python"
    }
  },
  "cells": [
    {
      "cell_type": "markdown",
      "metadata": {
        "id": "view-in-github",
        "colab_type": "text"
      },
      "source": [
        "<a href=\"https://colab.research.google.com/github/AndreChirva/Spark-SQL/blob/main/Top_10_%D1%81%D1%82%D1%80%D0%B0%D0%BD_%D1%81_%D0%BC%D0%B0%D0%BA%D1%81%D0%B8%D0%BC%D0%B0%D0%BB%D1%8C%D0%BD%D1%8B%D0%BC_%D0%B7%D0%B0%D1%84%D0%B8%D0%BA%D1%81%D0%B8%D1%80%D0%BE%D0%B2%D0%B0%D0%BD%D0%BD%D1%8B%D0%BC_%D0%BA%D0%BE%D0%BB_%D0%B2%D0%BE%D0%BC_%D0%BD%D0%BE%D0%B2%D1%8B%D1%85_%D1%81%D0%BB%D1%83%D1%87%D0%B0%D0%B5%D0%B2_.ipynb\" target=\"_parent\"><img src=\"https://colab.research.google.com/assets/colab-badge.svg\" alt=\"Open In Colab\"/></a>"
      ]
    },
    {
      "cell_type": "code",
      "execution_count": null,
      "metadata": {
        "id": "HqdbErHbWY7B"
      },
      "outputs": [],
      "source": [
        "!pip install pyspark\n",
        "from pyspark.sql import SparkSession\n",
        "from pyspark.sql.functions import to_date, col, max, row_number, desc\n",
        "from pyspark.sql.window import Window\n",
        "from pyspark.sql import functions as F"
      ]
    },
    {
      "cell_type": "code",
      "source": [
        "spark = SparkSession.builder.appName(\"covid_analysis\").getOrCreate()"
      ],
      "metadata": {
        "id": "yKqYBbgMXKnv"
      },
      "execution_count": 121,
      "outputs": []
    },
    {
      "cell_type": "code",
      "source": [
        "df = spark.read.csv(\"covid-data.csv\", header = True)\n",
        "df.show()"
      ],
      "metadata": {
        "id": "BOE-DN1IXYPH"
      },
      "execution_count": null,
      "outputs": []
    },
    {
      "cell_type": "code",
      "source": [
        "result_df = (df.filter(F.col(\"date\").between(\"2021-03-25\", \"2021-03-31\"))\n",
        "               .withColumn(\"Число\", F.date_format(col(\"date\"), \"dd\"))\n",
        "               .withColumn(\"Страны\", F.col(\"location\"))\n",
        "               .withColumn(\"кол-во новых случаев\", F.col(\"new_cases\")))\n",
        "result_df = (result_df.groupBy(\"Страны\",\"Число\")\n",
        "                      .agg(F.sum(\"кол-во новых случаев\").alias(\"Кол-во новых случаев\")))\n",
        "windowSpec = Window.partitionBy(\"Страны\").orderBy(col(\"Кол-во новых случаев\").desc())\n",
        "result_df = result_df.withColumn(\"number\", F.row_number().over(windowSpec))\n",
        "result_df.show()"
      ],
      "metadata": {
        "id": "ajQQiQOxgFC4"
      },
      "execution_count": null,
      "outputs": []
    },
    {
      "cell_type": "code",
      "source": [
        "result = (result_df.filter(F.col(\"number\") == 1)\n",
        "                   .filter(~F.col(\"Страны\").isin(\"World\", \"Europe\", \"European Union\", \"Asia\"))\n",
        "                   .select(\"Число\", \"Страны\", \"Кол-во новых случаев\")\n",
        "                   .orderBy(F.col(\"Кол-во новых случаев\").desc())\n",
        "                   .limit(10))\n",
        "\n",
        "result.show()\n"
      ],
      "metadata": {
        "colab": {
          "base_uri": "https://localhost:8080/"
        },
        "id": "8ijlUCMpoth0",
        "outputId": "f87e401c-62a8-4728-c03e-8881d6a30c4f"
      },
      "execution_count": 137,
      "outputs": [
        {
          "output_type": "stream",
          "name": "stdout",
          "text": [
            "+-----+-------------+--------------------+\n",
            "|Число|       Страны|Кол-во новых случаев|\n",
            "+-----+-------------+--------------------+\n",
            "|   25|South America|            148476.0|\n",
            "|   25|       Brazil|            100158.0|\n",
            "|   26|North America|             93350.0|\n",
            "|   26|United States|             77321.0|\n",
            "|   31|        India|             72330.0|\n",
            "|   31|       France|             59054.0|\n",
            "|   31|       Turkey|             39302.0|\n",
            "|   26|       Poland|             35145.0|\n",
            "|   31|      Germany|             25014.0|\n",
            "|   26|        Italy|             24076.0|\n",
            "+-----+-------------+--------------------+\n",
            "\n"
          ]
        }
      ]
    }
  ]
}