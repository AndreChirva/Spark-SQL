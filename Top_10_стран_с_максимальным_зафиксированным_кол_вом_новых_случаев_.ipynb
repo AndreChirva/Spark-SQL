{
  "nbformat": 4,
  "nbformat_minor": 0,
  "metadata": {
    "colab": {
      "provenance": [],
      "authorship_tag": "ABX9TyO0LD5QofC/PLyq2MY0+DhM"
    },
    "kernelspec": {
      "name": "python3",
      "display_name": "Python 3"
    },
    "language_info": {
      "name": "python"
    }
  },
  "cells": [
    {
      "cell_type": "code",
      "execution_count": null,
      "metadata": {
        "id": "HqdbErHbWY7B"
      },
      "outputs": [],
      "source": [
        "!pip install pyspark\n",
        "from pyspark.sql import SparkSession\n",
        "from pyspark.sql.functions import to_date, col, max, row_number, desc\n",
        "from pyspark.sql.window import Window\n",
        "from pyspark.sql import functions as F"
      ]
    },
    {
      "cell_type": "code",
      "source": [
        "spark = SparkSession.builder.appName(\"covid_analysis\").getOrCreate()"
      ],
      "metadata": {
        "id": "yKqYBbgMXKnv"
      },
      "execution_count": 2,
      "outputs": []
    },
    {
      "cell_type": "code",
      "source": [
        "df = spark.read.csv(\"covid-data.csv\", header = True)\n",
        "df.show()"
      ],
      "metadata": {
        "id": "BOE-DN1IXYPH"
      },
      "execution_count": null,
      "outputs": []
    },
    {
      "cell_type": "code",
      "source": [
        "result_df = (df.filter(F.col(\"date\").between(\"2021-03-25\", \"2021-03-31\"))\n",
        "               .withColumn(\"Число\", F.date_format(col(\"date\"), \"dd\"))\n",
        "               .withColumn(\"Страны\", F.col(\"location\"))\n",
        "               .withColumn(\"кол-во новых случаев\", F.col(\"new_cases\")))\n",
        "result_df = (result_df.groupBy(\"Страны\",\"Число\")\n",
        "                      .agg(F.sum(\"кол-во новых случаев\").alias(\"Кол-во новых случаев\")))\n",
        "windowSpec = Window.partitionBy(\"Страны\").orderBy(col(\"Кол-во новых случаев\").desc())\n",
        "result_df = result_df.withColumn(\"number\", F.row_number().over(windowSpec))\n",
        "result_df.show()"
      ],
      "metadata": {
        "id": "ajQQiQOxgFC4"
      },
      "execution_count": null,
      "outputs": []
    },
    {
      "cell_type": "code",
      "source": [
        "result = (result_df.filter(F.col(\"number\") == 1)\n",
        "                   .filter(~F.col(\"Страны\").isin(\"World\", \"Europe\", \"European Union\", \"Asia\",\"South America\",\"North America\", \"United States\"))\n",
        "                   .select(\"Число\", \"Страны\", \"Кол-во новых случаев\")\n",
        "                   .orderBy(F.col(\"Кол-во новых случаев\").desc())\n",
        "                   .limit(10))\n",
        "\n",
        "result.show()\n"
      ],
      "metadata": {
        "colab": {
          "base_uri": "https://localhost:8080/"
        },
        "id": "8ijlUCMpoth0",
        "outputId": "60cdd24c-263b-4b63-83db-3672c446720f"
      },
      "execution_count": 5,
      "outputs": [
        {
          "output_type": "stream",
          "name": "stdout",
          "text": [
            "+-----+-------+--------------------+\n",
            "|Число| Страны|Кол-во новых случаев|\n",
            "+-----+-------+--------------------+\n",
            "|   25| Brazil|            100158.0|\n",
            "|   31|  India|             72330.0|\n",
            "|   31| France|             59054.0|\n",
            "|   31| Turkey|             39302.0|\n",
            "|   26| Poland|             35145.0|\n",
            "|   31|Germany|             25014.0|\n",
            "|   26|  Italy|             24076.0|\n",
            "|   25|   Peru|             19206.0|\n",
            "|   26| Africa|             18544.0|\n",
            "|   26|Ukraine|             18226.0|\n",
            "+-----+-------+--------------------+\n",
            "\n"
          ]
        }
      ]
    }
  ]
}