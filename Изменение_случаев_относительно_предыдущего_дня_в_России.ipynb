{
  "nbformat": 4,
  "nbformat_minor": 0,
  "metadata": {
    "colab": {
      "provenance": [],
      "authorship_tag": "ABX9TyO76FoqGpJ3/1TKv/Pj5VeE"
    },
    "kernelspec": {
      "name": "python3",
      "display_name": "Python 3"
    },
    "language_info": {
      "name": "python"
    }
  },
  "cells": [
    {
      "cell_type": "code",
      "execution_count": null,
      "metadata": {
        "id": "5PoOH1VlHYtY"
      },
      "outputs": [],
      "source": [
        "!pip install pyspark\n"
      ]
    },
    {
      "cell_type": "code",
      "source": [
        "from pyspark.sql import SparkSession\n",
        "from pyspark.sql import functions  as F\n",
        "from pyspark.sql.window import Window"
      ],
      "metadata": {
        "id": "fYYjVTYQMv--"
      },
      "execution_count": 5,
      "outputs": []
    },
    {
      "cell_type": "code",
      "source": [
        "spark = SparkSession.builder.appName(\"covid_analysis\").getOrCreate()"
      ],
      "metadata": {
        "id": "e9iqHWePNNW0"
      },
      "execution_count": 6,
      "outputs": []
    },
    {
      "cell_type": "code",
      "source": [
        "df = spark.read.csv(\"covid-data.csv\", header = True)\n"
      ],
      "metadata": {
        "id": "zWZL-Z9rNryb"
      },
      "execution_count": null,
      "outputs": []
    },
    {
      "cell_type": "code",
      "source": [
        "result_df = (df.filter(F.col(\"date\").between(\"2021-03-25\", \"2021-03-31\"))\n",
        "               .filter(F.col(\"location\") == \"Russia\")\n",
        "               .withColumn(\"Число\", F.date_format(F.col(\"date\"), \"dd\"))\n",
        "               .withColumn(\"Кол-во новых случаев вчера\", F.col(\"new_cases\")))\n",
        "\n",
        "window_spec = Window.orderBy(F.col(\"Число\"))\n",
        "result_df = result_df.withColumn(\"Кол-во новых случаев сегодня\", F.lag(F.col(\"new_cases\")).over(window_spec))\n",
        "result_df.show()"
      ],
      "metadata": {
        "id": "oIa1oTwVO3LU"
      },
      "execution_count": null,
      "outputs": []
    },
    {
      "cell_type": "code",
      "source": [
        "result = (result_df\n",
        "                   .withColumn(\"Дельта\", F.col(\"Кол-во новых случаев вчера\") - F.col(\"Кол-во новых случаев сегодня\"))\n",
        "                   .select(\"Число\", \"Кол-во новых случаев вчера\", \"Кол-во новых случаев сегодня\", \"Дельта\")\n",
        "                   .orderBy(F.col(\"Число\").desc()))\n",
        "result.show()"
      ],
      "metadata": {
        "colab": {
          "base_uri": "https://localhost:8080/"
        },
        "id": "5EDemakQSHTl",
        "outputId": "fd4bd47a-4e89-425a-ac20-3759a8619b7f"
      },
      "execution_count": 24,
      "outputs": [
        {
          "output_type": "stream",
          "name": "stdout",
          "text": [
            "+-----+--------------------------+----------------------------+------+\n",
            "|Число|Кол-во новых случаев вчера|Кол-во новых случаев сегодня|Дельта|\n",
            "+-----+--------------------------+----------------------------+------+\n",
            "|   31|                    8156.0|                      8162.0|  -6.0|\n",
            "|   30|                    8162.0|                      8589.0|-427.0|\n",
            "|   29|                    8589.0|                      8979.0|-390.0|\n",
            "|   28|                    8979.0|                      8783.0| 196.0|\n",
            "|   27|                    8783.0|                      9073.0|-290.0|\n",
            "|   26|                    9073.0|                      9128.0| -55.0|\n",
            "|   25|                    9128.0|                        NULL|  NULL|\n",
            "+-----+--------------------------+----------------------------+------+\n",
            "\n"
          ]
        }
      ]
    }
  ]
}