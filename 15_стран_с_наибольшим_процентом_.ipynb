{
  "nbformat": 4,
  "nbformat_minor": 0,
  "metadata": {
    "colab": {
      "provenance": [],
      "authorship_tag": "ABX9TyPWeiBiZL5WXZdgdhZRhCnr",
      "include_colab_link": true
    },
    "kernelspec": {
      "name": "python3",
      "display_name": "Python 3"
    },
    "language_info": {
      "name": "python"
    }
  },
  "cells": [
    {
      "cell_type": "markdown",
      "metadata": {
        "id": "view-in-github",
        "colab_type": "text"
      },
      "source": [
        "<a href=\"https://colab.research.google.com/github/AndreChirva/Spark-SQL/blob/main/15_%D1%81%D1%82%D1%80%D0%B0%D0%BD_%D1%81_%D0%BD%D0%B0%D0%B8%D0%B1%D0%BE%D0%BB%D1%8C%D1%88%D0%B8%D0%BC_%D0%BF%D1%80%D0%BE%D1%86%D0%B5%D0%BD%D1%82%D0%BE%D0%BC_.ipynb\" target=\"_parent\"><img src=\"https://colab.research.google.com/assets/colab-badge.svg\" alt=\"Open In Colab\"/></a>"
      ]
    },
    {
      "cell_type": "code",
      "execution_count": null,
      "metadata": {
        "id": "RxzdV8d88IAR"
      },
      "outputs": [],
      "source": [
        "# Выберите 15 стран с наибольшим процентом переболевших на 31 марта (в выходящем датасете необходимы колонки: iso_code, страна, процент переболевших)\n",
        "\n",
        "!pip install pyspark\n",
        "from pyspark.sql import SparkSession\n",
        "from pyspark.sql import functions as F"
      ]
    },
    {
      "cell_type": "code",
      "source": [
        "spark = SparkSession.builder.appName(\"covid_analysis\").getOrCreate()\n"
      ],
      "metadata": {
        "id": "UHlqiZs7SXwd"
      },
      "execution_count": 2,
      "outputs": []
    },
    {
      "cell_type": "code",
      "source": [
        "df = spark.read.csv(\"covid-data.csv\", header=True)\n",
        "df.show()"
      ],
      "metadata": {
        "id": "j0WcnAGPS3ek"
      },
      "execution_count": null,
      "outputs": []
    },
    {
      "cell_type": "code",
      "source": [
        "result = (df\n",
        " .withColumn(\"Процент переболевших\", F.round((F.col(\"total_cases\").cast(\"double\") / F.col(\"population\").cast(\"double\")) * 100, 2))\n",
        " .withColumn(\"Страны\", F.col(\"location\"))\n",
        " .filter(F.date_format(F.col(\"date\").cast(\"date\"), \"MM-dd\") == \"03-31\")\n",
        " .filter(F.col(\"Процент переболевших\").isNotNull())\n",
        " .select(\"Iso_code\", \"Страны\", \"Процент переболевших\" )\n",
        " .orderBy(F.col(\"Процент переболевших\").desc())\n",
        " .limit(15)\n",
        " )\n",
        "result.show()"
      ],
      "metadata": {
        "colab": {
          "base_uri": "https://localhost:8080/"
        },
        "id": "8w_zKQBLYQn6",
        "outputId": "2f094bc9-49d1-4a34-8d05-861686253c9c"
      },
      "execution_count": 13,
      "outputs": [
        {
          "output_type": "stream",
          "name": "stdout",
          "text": [
            "+--------+-------------+--------------------+\n",
            "|Iso_code|       Страны|Процент переболевших|\n",
            "+--------+-------------+--------------------+\n",
            "|     AND|      Andorra|               15.54|\n",
            "|     MNE|   Montenegro|               14.52|\n",
            "|     CZE|      Czechia|               14.31|\n",
            "|     SMR|   San Marino|               13.94|\n",
            "|     SVN|     Slovenia|               10.37|\n",
            "|     LUX|   Luxembourg|                9.85|\n",
            "|     ISR|       Israel|                9.63|\n",
            "|     USA|United States|                 9.2|\n",
            "|     SRB|       Serbia|                8.83|\n",
            "|     BHR|      Bahrain|                8.49|\n",
            "|     PAN|       Panama|                8.23|\n",
            "|     PRT|     Portugal|                8.06|\n",
            "|     EST|      Estonia|                8.02|\n",
            "|     SWE|       Sweden|                7.97|\n",
            "|     LTU|    Lithuania|                7.94|\n",
            "+--------+-------------+--------------------+\n",
            "\n"
          ]
        }
      ]
    }
  ]
}